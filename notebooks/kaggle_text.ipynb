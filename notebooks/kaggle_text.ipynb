{
 "cells": [
  {
   "cell_type": "markdown",
   "metadata": {},
   "source": [
    "## **Соревнования с Kaggle**\n",
    "\n",
    "https://www.kaggle.com/competitions/aith-dl-competition-text-data\n",
    "\n",
    "Посылки оцениваются по метрике **ROC AUC**.\n",
    "\n",
    "\n"
   ]
  },
  {
   "cell_type": "code",
   "execution_count": 1,
   "metadata": {},
   "outputs": [],
   "source": [
    "# импорт библиотек\n",
    "import pandas as pd\n",
    "import numpy as np\n",
    "from sklearn.model_selection import train_test_split\n",
    "from transformers import Trainer, TrainingArguments, BertTokenizer, BertForSequenceClassification\n",
    "from sklearn.metrics import roc_auc_score\n",
    "from torch.utils.data import Dataset\n",
    "import torch"
   ]
  },
  {
   "cell_type": "markdown",
   "metadata": {},
   "source": [
    "### Загрузка данных "
   ]
  },
  {
   "cell_type": "code",
   "execution_count": 2,
   "metadata": {},
   "outputs": [
    {
     "data": {
      "text/html": [
       "<div>\n",
       "<style scoped>\n",
       "    .dataframe tbody tr th:only-of-type {\n",
       "        vertical-align: middle;\n",
       "    }\n",
       "\n",
       "    .dataframe tbody tr th {\n",
       "        vertical-align: top;\n",
       "    }\n",
       "\n",
       "    .dataframe thead th {\n",
       "        text-align: right;\n",
       "    }\n",
       "</style>\n",
       "<table border=\"1\" class=\"dataframe\">\n",
       "  <thead>\n",
       "    <tr style=\"text-align: right;\">\n",
       "      <th></th>\n",
       "      <th>id</th>\n",
       "      <th>text</th>\n",
       "      <th>score</th>\n",
       "    </tr>\n",
       "  </thead>\n",
       "  <tbody>\n",
       "    <tr>\n",
       "      <th>0</th>\n",
       "      <td>127857</td>\n",
       "      <td>пидорасы наше правительство издеваються над пе...</td>\n",
       "      <td>1</td>\n",
       "    </tr>\n",
       "    <tr>\n",
       "      <th>1</th>\n",
       "      <td>86622</td>\n",
       "      <td>чё цена?</td>\n",
       "      <td>0</td>\n",
       "    </tr>\n",
       "    <tr>\n",
       "      <th>2</th>\n",
       "      <td>33294</td>\n",
       "      <td>старый пиндосовский прихвостень...</td>\n",
       "      <td>1</td>\n",
       "    </tr>\n",
       "    <tr>\n",
       "      <th>3</th>\n",
       "      <td>421</td>\n",
       "      <td>хорошо потрудились... молодец!!!</td>\n",
       "      <td>0</td>\n",
       "    </tr>\n",
       "    <tr>\n",
       "      <th>4</th>\n",
       "      <td>118550</td>\n",
       "      <td>хаба это скучная возня по полу👎</td>\n",
       "      <td>0</td>\n",
       "    </tr>\n",
       "  </tbody>\n",
       "</table>\n",
       "</div>"
      ],
      "text/plain": [
       "       id                                               text  score\n",
       "0  127857  пидорасы наше правительство издеваються над пе...      1\n",
       "1   86622                                           чё цена?      0\n",
       "2   33294                 старый пиндосовский прихвостень...      1\n",
       "3     421                   хорошо потрудились... молодец!!!      0\n",
       "4  118550                    хаба это скучная возня по полу👎      0"
      ]
     },
     "metadata": {},
     "output_type": "display_data"
    },
    {
     "data": {
      "text/html": [
       "<div>\n",
       "<style scoped>\n",
       "    .dataframe tbody tr th:only-of-type {\n",
       "        vertical-align: middle;\n",
       "    }\n",
       "\n",
       "    .dataframe tbody tr th {\n",
       "        vertical-align: top;\n",
       "    }\n",
       "\n",
       "    .dataframe thead th {\n",
       "        text-align: right;\n",
       "    }\n",
       "</style>\n",
       "<table border=\"1\" class=\"dataframe\">\n",
       "  <thead>\n",
       "    <tr style=\"text-align: right;\">\n",
       "      <th></th>\n",
       "      <th>id</th>\n",
       "      <th>text</th>\n",
       "    </tr>\n",
       "  </thead>\n",
       "  <tbody>\n",
       "    <tr>\n",
       "      <th>0</th>\n",
       "      <td>152591</td>\n",
       "      <td>господь услышал слова людей, наши молитвы дошл...</td>\n",
       "    </tr>\n",
       "    <tr>\n",
       "      <th>1</th>\n",
       "      <td>108771</td>\n",
       "      <td>их тоже надо выстрелами в головы пристрелить.б...</td>\n",
       "    </tr>\n",
       "    <tr>\n",
       "      <th>2</th>\n",
       "      <td>198853</td>\n",
       "      <td>не ужели не понятно, он так завтракает, обедае...</td>\n",
       "    </tr>\n",
       "    <tr>\n",
       "      <th>3</th>\n",
       "      <td>194736</td>\n",
       "      <td>я открыла, прочитала</td>\n",
       "    </tr>\n",
       "    <tr>\n",
       "      <th>4</th>\n",
       "      <td>88110</td>\n",
       "      <td>нет ты давай по взрослому с помадой :p :d</td>\n",
       "    </tr>\n",
       "  </tbody>\n",
       "</table>\n",
       "</div>"
      ],
      "text/plain": [
       "       id                                               text\n",
       "0  152591  господь услышал слова людей, наши молитвы дошл...\n",
       "1  108771  их тоже надо выстрелами в головы пристрелить.б...\n",
       "2  198853  не ужели не понятно, он так завтракает, обедае...\n",
       "3  194736                               я открыла, прочитала\n",
       "4   88110          нет ты давай по взрослому с помадой :p :d"
      ]
     },
     "metadata": {},
     "output_type": "display_data"
    }
   ],
   "source": [
    "# Загрузка данных\n",
    "train_data = pd.read_csv(\"../data/kaggle_dataset_text/train.csv\")\n",
    "test_data = pd.read_csv(\"../data/kaggle_dataset_text/test.csv\")\n",
    "\n",
    "# Просмотр первых строк данных\n",
    "display(train_data.head())\n",
    "display(test_data.head())"
   ]
  },
  {
   "cell_type": "code",
   "execution_count": 3,
   "metadata": {},
   "outputs": [
    {
     "name": "stdout",
     "output_type": "stream",
     "text": [
      "(173803, 3)\n",
      "(74487, 2)\n"
     ]
    }
   ],
   "source": [
    "# размер датаесета\n",
    "print(train_data.shape) \n",
    "print(test_data.shape)"
   ]
  },
  {
   "cell_type": "markdown",
   "metadata": {},
   "source": [
    "слишком большой датасет... буду обучать на более мелкой выборке"
   ]
  },
  {
   "cell_type": "markdown",
   "metadata": {},
   "source": [
    "### Визуализация данных"
   ]
  },
  {
   "cell_type": "code",
   "execution_count": 4,
   "metadata": {},
   "outputs": [
    {
     "data": {
      "image/png": "[encoded data removed]",
      "text/plain": [
       "<Figure size 1800x600 with 3 Axes>"
      ]
     },
     "metadata": {},
     "output_type": "display_data"
    }
   ],
   "source": [
    "import matplotlib.pyplot as plt\n",
    "import seaborn as sns\n",
    "\n",
    "# Подсчет количества токсичных и не токсичных комментариев\n",
    "toxicity_counts = train_data['score'].value_counts()\n",
    "\n",
    "# Визуализация распределения токсичных и не токсичных комментариев\n",
    "plt.figure(figsize=(18, 6))\n",
    "plt.subplot(1, 3, 1)\n",
    "sns.barplot(x=toxicity_counts.index, y=toxicity_counts.values, hue=toxicity_counts.index, palette=\"viridis\", legend=False)\n",
    "plt.title('Распределение токсичных и не токсичных комментариев')\n",
    "plt.xlabel('Токсичность (1 - токсичный, 0 - не токсичный)')\n",
    "plt.ylabel('Количество комментариев')\n",
    "\n",
    "# Добавление столбца с длиной текста в словах\n",
    "train_data['text_length'] = train_data['text'].apply(lambda x: len(x.split()))\n",
    "\n",
    "# Визуализация распределения длины текста для каждого класса\n",
    "plt.subplot(1, 3, 2)\n",
    "sns.histplot(data=train_data, x='text_length', hue='score', kde=True, palette=\"viridis\", bins=30)\n",
    "plt.title('Распределение длины сообщений в каждом классе')\n",
    "plt.xlabel('Длина текста')\n",
    "plt.ylabel('Количество комментариев')\n",
    "\n",
    "# Boxplot для длины сообщений в каждом классе\n",
    "plt.subplot(1, 3, 3)\n",
    "sns.boxplot(data=train_data, x='score', y='text_length', palette=\"viridis\", hue='score', legend=False)\n",
    "plt.title('Boxplot длины сообщений в каждом классе')\n",
    "plt.xlabel('Токсичность (1 - токсичный, 0 - не токсичный)')\n",
    "plt.ylabel('Длина текста')\n",
    "\n",
    "plt.tight_layout()\n",
    "plt.show()"
   ]
  },
  {
   "cell_type": "markdown",
   "metadata": {},
   "source": [
    "### Предобработка данных\n",
    "Стоит убрать эмодзи, нечитаемые символы ﻿, стоит удалить и сайты, номера телефонов"
   ]
  },
  {
   "cell_type": "code",
   "execution_count": 5,
   "metadata": {},
   "outputs": [],
   "source": [
    "import re\n",
    "import emoji\n",
    "\n",
    "def clean_text(text):\n",
    "    # Удаление эмодзи (или замена на текстовое описание)\n",
    "    text = emoji.demojize(text, delimiters=(\" \", \" \"))          # Замена эмодзи на текст\n",
    "    text = re.sub(r\":[a-zA-Z_]+:\", \" \", text)                   # Удаление текстового описания эмодзи\n",
    "    # Удаление английских слов (например, thumbs down, red exclamation mark)\n",
    "    text = re.sub(r\"\\b[a-zA-Z]+\\b\", \" \", text)                  # Удаление всех английских слов\n",
    "\n",
    "    # Удаление номеров телефонов (все возможные форматы)\n",
    "    phone_patterns = [\n",
    "        r\"\\b\\d{11}\\b\",  # 89138609898\n",
    "        r\"\\b\\d{1}\\s?\\(\\d{3}\\)\\s?\\d{3}-\\d{2}-\\d{2}\\b\",       # 8 (913) 860-98-98\n",
    "        r\"\\b\\+\\d{1}\\s?\\d{3}\\s?\\d{3}\\s?\\d{2}\\s?\\d{2}\\b\",     # +7 913 860 98 98\n",
    "        r\"\\b\\d{3}-\\d{3}-\\d{2}-\\d{2}\\b\",                     # 913-860-98-98\n",
    "        r\"\\b\\d{1}-\\d{3}-\\d{3}-\\d{2}-\\d{2}\\b\",               # 8-913-860-98-98\n",
    "        r\"\\b\\+\\d{1}\\d{10}\\b\",                               # +79138609898\n",
    "        r\"\\b\\+\\d{1}\\(\\d{3}\\)\\d{3}-\\d{2}-\\d{2}\\b\",           # +7(913)860-98-98\n",
    "        r\"\\b\\d{1}\\s\\d{3}\\s\\d{3}\\s\\d{2}\\s\\d{2}\\b\",           # 8 913 860 98 98\n",
    "    ]\n",
    "    for pattern in phone_patterns:\n",
    "        text = re.sub(pattern, \"[PHONE]\", text)\n",
    "\n",
    "    # Удаление адресов (пример для улиц)\n",
    "    text = re.sub(r\"\\bул\\.\\s*\\w+\\s*\\d+\\w*\\b\", \"[ADDRESS]\", text)\n",
    "\n",
    "    # Удаление ссылок на сайты\n",
    "    text = re.sub(r\"https?://\\S+|www\\.\\S+\", \"[URL]\", text)\n",
    "\n",
    "    # Удаление спецсимволов и пунктуации (кроме букв, цифр и пробелов)\n",
    "    text = re.sub(r\"[^a-zA-Zа-яА-ЯёЁ0-9\\s]\", \" \", text)\n",
    "\n",
    "    # Удаление лишних пробелов\n",
    "    text = re.sub(r\"\\s+\", \" \", text).strip()\n",
    "\n",
    "    # Приведение к нижнему регистру\n",
    "    text = text.lower()\n",
    "\n",
    "    return text\n",
    "\n",
    "\n",
    "# Очистка комментариев\n",
    "train_data[\"text\"] = [clean_text(comment) for comment in train_data[\"text\"]]\n",
    "test_data[\"text\"] = [clean_text(comment) for comment in test_data[\"text\"]]"
   ]
  },
  {
   "cell_type": "markdown",
   "metadata": {},
   "source": [
    "### Подготовка данных"
   ]
  },
  {
   "cell_type": "code",
   "execution_count": 6,
   "metadata": {},
   "outputs": [],
   "source": [
    "# Ограничиваем размер данных для эксперимента\n",
    "train_sample = train_data.sample(n=10000, random_state=42)      # 10,000 строк для обучения\n",
    "val_sample = train_data.sample(n=10000, random_state=24)        # 10,000 строк для проверки\n",
    "\n",
    "# Разделение на текст и метки\n",
    "train_texts = train_sample['text'].tolist()\n",
    "train_labels = train_sample['score'].tolist()\n",
    "\n",
    "val_texts = val_sample['text'].tolist()\n",
    "val_labels = val_sample['score'].tolist()\n",
    "\n",
    "# Токенизация текстов\n",
    "model_name = \"s-nlp/russian_toxicity_classifier\"  # Модель на основе RuBERT\n",
    "tokenizer = BertTokenizer.from_pretrained(model_name)\n",
    "\n",
    "train_encodings = tokenizer(train_texts, truncation=True, padding=True, max_length=128)\n",
    "val_encodings = tokenizer(val_texts, truncation=True, padding=True, max_length=128)\n",
    "\n",
    "# Создание Dataset\n",
    "class ToxicCommentsDataset(Dataset):\n",
    "    def __init__(self, encodings, labels):\n",
    "        self.encodings = encodings\n",
    "        self.labels = labels\n",
    "\n",
    "    def __getitem__(self, idx):\n",
    "        item = {key: torch.tensor(val[idx]) for key, val in self.encodings.items()}\n",
    "        item['labels'] = torch.tensor(self.labels[idx])\n",
    "        return item\n",
    "\n",
    "    def __len__(self):\n",
    "        return len(self.labels)\n",
    "\n",
    "train_dataset = ToxicCommentsDataset(train_encodings, train_labels)\n",
    "val_dataset = ToxicCommentsDataset(val_encodings, val_labels)"
   ]
  },
  {
   "cell_type": "markdown",
   "metadata": {},
   "source": [
    "### Модель от Сколково для классификации токсичных русских комментариев\n"
   ]
  },
  {
   "cell_type": "code",
   "execution_count": 7,
   "metadata": {},
   "outputs": [
    {
     "name": "stdout",
     "output_type": "stream",
     "text": [
      "MPS доступен. Используем MPS.\n",
      "Используемое устройство: mps\n"
     ]
    }
   ],
   "source": [
    "# Проверка доступности CUDA\n",
    "# Проверка доступности MPS\n",
    "if torch.backends.mps.is_available():\n",
    "    device = torch.device(\"mps\")\n",
    "    print(\"MPS доступен. Используем MPS.\")\n",
    "else:\n",
    "    device = torch.device(\"cuda\" if torch.cuda.is_available() else \"cpu\")\n",
    "    print(\"MPS недоступен. Используем CUDA или CPU.\")\n",
    "print(f\"Используемое устройство: {device}\")\n",
    "\n",
    "# Загрузка предобученной модели\n",
    "model = BertForSequenceClassification.from_pretrained(model_name, num_labels=2).to(device)"
   ]
  },
  {
   "cell_type": "code",
   "execution_count": 8,
   "metadata": {},
   "outputs": [
    {
     "data": {
      "text/plain": [
       "BertForSequenceClassification(\n",
       "  (bert): BertModel(\n",
       "    (embeddings): BertEmbeddings(\n",
       "      (word_embeddings): Embedding(119547, 768, padding_idx=0)\n",
       "      (position_embeddings): Embedding(512, 768)\n",
       "      (token_type_embeddings): Embedding(2, 768)\n",
       "      (LayerNorm): LayerNorm((768,), eps=1e-12, elementwise_affine=True)\n",
       "      (dropout): Dropout(p=0.1, inplace=False)\n",
       "    )\n",
       "    (encoder): BertEncoder(\n",
       "      (layer): ModuleList(\n",
       "        (0-11): 12 x BertLayer(\n",
       "          (attention): BertAttention(\n",
       "            (self): BertSdpaSelfAttention(\n",
       "              (query): Linear(in_features=768, out_features=768, bias=True)\n",
       "              (key): Linear(in_features=768, out_features=768, bias=True)\n",
       "              (value): Linear(in_features=768, out_features=768, bias=True)\n",
       "              (dropout): Dropout(p=0.1, inplace=False)\n",
       "            )\n",
       "            (output): BertSelfOutput(\n",
       "              (dense): Linear(in_features=768, out_features=768, bias=True)\n",
       "              (LayerNorm): LayerNorm((768,), eps=1e-12, elementwise_affine=True)\n",
       "              (dropout): Dropout(p=0.1, inplace=False)\n",
       "            )\n",
       "          )\n",
       "          (intermediate): BertIntermediate(\n",
       "            (dense): Linear(in_features=768, out_features=3072, bias=True)\n",
       "            (intermediate_act_fn): GELUActivation()\n",
       "          )\n",
       "          (output): BertOutput(\n",
       "            (dense): Linear(in_features=3072, out_features=768, bias=True)\n",
       "            (LayerNorm): LayerNorm((768,), eps=1e-12, elementwise_affine=True)\n",
       "            (dropout): Dropout(p=0.1, inplace=False)\n",
       "          )\n",
       "        )\n",
       "      )\n",
       "    )\n",
       "    (pooler): BertPooler(\n",
       "      (dense): Linear(in_features=768, out_features=768, bias=True)\n",
       "      (activation): Tanh()\n",
       "    )\n",
       "  )\n",
       "  (dropout): Dropout(p=0.1, inplace=False)\n",
       "  (classifier): Linear(in_features=768, out_features=2, bias=True)\n",
       ")"
      ]
     },
     "execution_count": 8,
     "metadata": {},
     "output_type": "execute_result"
    }
   ],
   "source": [
    "# архитектура модели\n",
    "model"
   ]
  },
  {
   "cell_type": "markdown",
   "metadata": {},
   "source": [
    "### Обучение с TrainingArguments\n",
    "более простое чем писать свой train / eval loop"
   ]
  },
  {
   "cell_type": "code",
   "execution_count": 10,
   "metadata": {},
   "outputs": [
    {
     "name": "stderr",
     "output_type": "stream",
     "text": [
      "/Users/anastasia/docs/ITMO/DL_Course/.venv/lib/python3.10/site-packages/transformers/training_args.py:1575: FutureWarning: `evaluation_strategy` is deprecated and will be removed in version 4.46 of 🤗 Transformers. Use `eval_strategy` instead\n",
      "  warnings.warn(\n",
      "\u001b[34m\u001b[1mwandb\u001b[0m: \u001b[33mWARNING\u001b[0m The `run_name` is currently set to the same value as `TrainingArguments.output_dir`. If this was not intended, please specify a different run name by setting the `TrainingArguments.run_name` parameter.\n",
      "\u001b[34m\u001b[1mwandb\u001b[0m: Currently logged in as: \u001b[33mkatimanova\u001b[0m (\u001b[33mkatimanova-itmo-university\u001b[0m). Use \u001b[1m`wandb login --relogin`\u001b[0m to force relogin\n",
      "\u001b[34m\u001b[1mwandb\u001b[0m: Using wandb-core as the SDK backend.  Please refer to https://wandb.me/wandb-core for more information.\n"
     ]
    },
    {
     "data": {
      "text/html": [
       "Tracking run with wandb version 0.19.4"
      ],
      "text/plain": [
       "<IPython.core.display.HTML object>"
      ]
     },
     "metadata": {},
     "output_type": "display_data"
    },
    {
     "data": {
      "text/html": [
       "Run data is saved locally in <code>/Users/anastasia/docs/ITMO/DL_Course/notebooks/wandb/run-20250127_153813-9h6hibb6</code>"
      ],
      "text/plain": [
       "<IPython.core.display.HTML object>"
      ]
     },
     "metadata": {},
     "output_type": "display_data"
    },
    {
     "data": {
      "text/html": [
       "Syncing run <strong><a href='https://wandb.ai/katimanova-itmo-university/huggingface/runs/9h6hibb6' target=\"_blank\">../logs/toxic_comments_results</a></strong> to <a href='https://wandb.ai/katimanova-itmo-university/huggingface' target=\"_blank\">Weights & Biases</a> (<a href='https://wandb.me/developer-guide' target=\"_blank\">docs</a>)<br>"
      ],
      "text/plain": [
       "<IPython.core.display.HTML object>"
      ]
     },
     "metadata": {},
     "output_type": "display_data"
    },
    {
     "data": {
      "text/html": [
       " View project at <a href='https://wandb.ai/katimanova-itmo-university/huggingface' target=\"_blank\">https://wandb.ai/katimanova-itmo-university/huggingface</a>"
      ],
      "text/plain": [
       "<IPython.core.display.HTML object>"
      ]
     },
     "metadata": {},
     "output_type": "display_data"
    },
    {
     "data": {
      "text/html": [
       " View run at <a href='https://wandb.ai/katimanova-itmo-university/huggingface/runs/9h6hibb6' target=\"_blank\">https://wandb.ai/katimanova-itmo-university/huggingface/runs/9h6hibb6</a>"
      ],
      "text/plain": [
       "<IPython.core.display.HTML object>"
      ]
     },
     "metadata": {},
     "output_type": "display_data"
    },
    {
     "data": {
      "text/html": [
       "\n",
       "    <div>\n",
       "      \n",
       "      <progress value='1875' max='1875' style='width:300px; height:20px; vertical-align: middle;'></progress>\n",
       "      [1875/1875 20:57, Epoch 3/3]\n",
       "    </div>\n",
       "    <table border=\"1\" class=\"dataframe\">\n",
       "  <thead>\n",
       " <tr style=\"text-align: left;\">\n",
       "      <th>Step</th>\n",
       "      <th>Training Loss</th>\n",
       "      <th>Validation Loss</th>\n",
       "      <th>Roc Auc</th>\n",
       "    </tr>\n",
       "  </thead>\n",
       "  <tbody>\n",
       "    <tr>\n",
       "      <td>500</td>\n",
       "      <td>0.060100</td>\n",
       "      <td>0.063122</td>\n",
       "      <td>0.974026</td>\n",
       "    </tr>\n",
       "    <tr>\n",
       "      <td>1000</td>\n",
       "      <td>0.030900</td>\n",
       "      <td>0.080685</td>\n",
       "      <td>0.976642</td>\n",
       "    </tr>\n",
       "    <tr>\n",
       "      <td>1500</td>\n",
       "      <td>0.006100</td>\n",
       "      <td>0.095736</td>\n",
       "      <td>0.974091</td>\n",
       "    </tr>\n",
       "  </tbody>\n",
       "</table><p>"
      ],
      "text/plain": [
       "<IPython.core.display.HTML object>"
      ]
     },
     "metadata": {},
     "output_type": "display_data"
    },
    {
     "data": {
      "text/plain": [
       "TrainOutput(global_step=1875, training_loss=0.026236364428202312, metrics={'train_runtime': 1260.4479, 'train_samples_per_second': 23.801, 'train_steps_per_second': 1.488, 'total_flos': 1973332915200000.0, 'train_loss': 0.026236364428202312, 'epoch': 3.0})"
      ]
     },
     "execution_count": 10,
     "metadata": {},
     "output_type": "execute_result"
    },
    {
     "name": "stderr",
     "output_type": "stream",
     "text": [
      "\u001b[34m\u001b[1mwandb\u001b[0m: \u001b[33mWARNING\u001b[0m Fatal error while uploading data. Some run data will not be synced, but it will still be written to disk. Use `wandb sync` at the end of the run to try uploading.\n"
     ]
    }
   ],
   "source": [
    "# Настройка тренировочных аргументов\n",
    "training_args = TrainingArguments(\n",
    "    output_dir='../logs/toxic_comments_results',\n",
    "    evaluation_strategy=\"steps\",  # Оценка по шагам\n",
    "    eval_steps=500,               # Частота оценки (каждые 100 шагов)\n",
    "    save_strategy=\"steps\",        # Сохранение модели по шагам\n",
    "    save_steps=500,               # Частота сохранения модели\n",
    "    learning_rate=2e-5,\n",
    "    per_device_train_batch_size=16,\n",
    "    num_train_epochs=3,\n",
    "    logging_dir='../logs/toxic_comments',\n",
    "    save_total_limit=1,\n",
    "    metric_for_best_model=\"roc_auc\",\n",
    "    load_best_model_at_end=True,\n",
    ")\n",
    "\n",
    "# Функция для вычисления метрики ROC AUC\n",
    "def compute_metrics(p):\n",
    "    preds = np.argmax(p.predictions, axis=1)\n",
    "    return {'roc_auc': roc_auc_score(p.label_ids, preds)}\n",
    "\n",
    "# Создание Trainer\n",
    "trainer = Trainer(\n",
    "    model=model,\n",
    "    args=training_args,\n",
    "    train_dataset=train_dataset,\n",
    "    eval_dataset=val_dataset,\n",
    "    compute_metrics=compute_metrics  \n",
    ")\n",
    "\n",
    "# Дообучение модели\n",
    "trainer.train()"
   ]
  },
  {
   "cell_type": "code",
   "execution_count": 11,
   "metadata": {},
   "outputs": [
    {
     "data": {
      "text/html": [],
      "text/plain": [
       "<IPython.core.display.HTML object>"
      ]
     },
     "metadata": {},
     "output_type": "display_data"
    },
    {
     "name": "stdout",
     "output_type": "stream",
     "text": [
      "ROC AUC на валидационной выборке: 0.9766416106141289\n"
     ]
    }
   ],
   "source": [
    "# Оценка модели на валидационной выборке\n",
    "results = trainer.evaluate()\n",
    "print(f\"ROC AUC на валидационной выборке: {results['eval_roc_auc']}\")"
   ]
  },
  {
   "cell_type": "markdown",
   "metadata": {},
   "source": [
    "### Тестовое предсказание"
   ]
  },
  {
   "cell_type": "code",
   "execution_count": 13,
   "metadata": {},
   "outputs": [
    {
     "name": "stderr",
     "output_type": "stream",
     "text": [
      "/Users/anastasia/docs/ITMO/DL_Course/.venv/lib/python3.10/site-packages/sklearn/metrics/_ranking.py:379: UndefinedMetricWarning: Only one class is present in y_true. ROC AUC score is not defined in that case.\n",
      "  warnings.warn(\n"
     ]
    },
    {
     "name": "stdout",
     "output_type": "stream",
     "text": [
      "Результаты сохранены в ../output/submission.csv\n"
     ]
    }
   ],
   "source": [
    "# Предсказание на тестовой выборке\n",
    "test_encodings = tokenizer(test_data['text'].tolist(), truncation=True, padding=True, max_length=128)\n",
    "test_dataset = ToxicCommentsDataset(test_encodings, [0] * len(test_data))\n",
    "\n",
    "predictions = trainer.predict(test_dataset)\n",
    "probs = torch.softmax(torch.tensor(predictions.predictions), dim=1)[:, 1].numpy()\n",
    "\n",
    "# Сохранение результатов в файл\n",
    "submission = pd.DataFrame({'id': test_data['id'], 'score': probs})\n",
    "submission.to_csv('../output/submission.csv', index=False)\n",
    "print(\"Результаты сохранены в ../output/submission.csv\")"
   ]
  },
  {
   "cell_type": "markdown",
   "metadata": {},
   "source": [
    "### Выводы\n",
    "Как оказалось, чем меньше стараешься - тем лучше ...  \n",
    "Без предобработки текста результат вырос.\n",
    "\n",
    "Вот результат с предобработкой на 3 эпохи - переобучение:\n",
    "\n",
    "| Epoch | Training Loss | Validation Loss | Roc Auc   |\n",
    "|-------|---------------|-----------------|-----------|\n",
    "| 1     | 0.060800      | 0.061997        | 0.980437  |\n",
    "| 2     | 0.029500      | 0.087455        | 0.975275  |\n",
    "| 3     | 0.008100      | 0.102071        | 0.974634  |\n",
    "\n",
    "**ROC AUC на валидационной выборке:** `0.9804369879768553`\n",
    "\n",
    "Вот результат с другой обработкой на 3 эпохи - переобучение но получше:\n",
    "\n",
    "| Epoch | Training Loss | Validation Loss | Roc Auc   |\n",
    "|-------|---------------|-----------------|-----------|\n",
    "| 1     | 0.060100     | 0.063122        | 0.974026  |\n",
    "| 2     | 0.030900     | 0.080685       | 0.976642 |\n",
    "| 3     | 0.006100     | 0.095736        | 0.974091 |\n",
    "\n",
    "**ROC AUC на валидационной выборке:** `0.9766416106141289`\n",
    "\n",
    "Без обработки текстовой:\n",
    "пока лучший вариант - запускала его в коллабе \n"
   ]
  }
 ],
 "metadata": {
  "kernelspec": {
   "display_name": ".venv",
   "language": "python",
   "name": "python3"
  },
  "language_info": {
   "codemirror_mode": {
    "name": "ipython",
    "version": 3
   },
   "file_extension": ".py",
   "mimetype": "text/x-python",
   "name": "python",
   "nbconvert_exporter": "python",
   "pygments_lexer": "ipython3",
   "version": "3.10.14"
  }
 },
 "nbformat": 4,
 "nbformat_minor": 2
}
